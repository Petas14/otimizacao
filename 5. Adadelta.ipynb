{
 "cells": [
  {
   "cell_type": "markdown",
   "metadata": {},
   "source": [
    "# Adadelta\n",
    "\n",
    "## Adadelta segue a mesma linha de pensamento que o RMSprop, contudo sua formula de atualização é diferente,\n",
    "\n",
    "## $w_{t} = w_{t-1} + \\Delta w$\n",
    "\n",
    "## $\\Delta w = -\\frac{\\sqrt{u_{t-1} + \\epsilon}}{\\sqrt{v_t + \\epsilon}}dL/dw$\n",
    "\n",
    "## sendo\n",
    "\n",
    "## $v_t = \\gamma v_{t-1}+ (1-\\gamma)dL^2/dw $\n",
    "\n",
    "## $u_t = \\gamma u_{t-1}+ (1-\\gamma)dL^2/dw $"
   ]
  },
  {
   "cell_type": "markdown",
   "metadata": {},
   "source": []
  },
  {
   "cell_type": "code",
   "execution_count": 2,
   "metadata": {},
   "outputs": [],
   "source": [
    "import numpy as np\n",
    "import matplotlib.pyplot as plt"
   ]
  },
  {
   "cell_type": "code",
   "execution_count": 3,
   "metadata": {},
   "outputs": [
    {
     "name": "stdout",
     "output_type": "stream",
     "text": [
      "[[400.   -20.     1.  ]\n",
      " [396.01 -19.9    1.  ]\n",
      " [392.04 -19.8    1.  ]\n",
      " ...\n",
      " [388.09  19.7    1.  ]\n",
      " [392.04  19.8    1.  ]\n",
      " [396.01  19.9    1.  ]]\n"
     ]
    }
   ],
   "source": [
    "f = lambda x,w: x @ w # Função que descreve uma parabola para o nosso caso, em que temos\n",
    "# f: X[:,0]*w[0] + X[:,1]*w[1] + X[:,2]*w[2]\n",
    "\n",
    "w = np.random.normal(0,1,(3,1)) # pesos\n",
    "\n",
    "X = np.arange(-20,20,0.1).reshape(-1,1) # dados\n",
    "\n",
    "y = X**2 + 5*X + 1 # função a ser encontrada, que não conhecemos, porém sabemos é uma função polinomial \n",
    "\n",
    "X_in = np.append(X**2,np.append(X,np.ones(X.shape),axis = 1),axis = 1).reshape(-1,3) # adicionando 1 para poder fazer o produto interno ao invés de multiplicações\n",
    "print(X_in)"
   ]
  },
  {
   "cell_type": "code",
   "execution_count": null,
   "metadata": {},
   "outputs": [],
   "source": [
    "def Adadelta(X,y,w,gamma= 0.90,lr = 0.00000001):\n",
    "    loss_a = [0.02 for i in range(len(w))]\n",
    "    for _ in range(1000):\n",
    "        yhat = f(X,w)\n",
    "        loss = np.mean((y - yhat)**2)\n",
    "        for i in range(len(w)):\n",
    "            w[i] +=  lr/np.sqrt(1e-8+loss_a[i])*((y-yhat).T @ X[:,i])/len(yhat)\n",
    "            loss_a[i] = gamma*loss_a[i] + (1-gamma)*((lr*(y-yhat).T @ X[:,i])/len(yhat))**2\n",
    "        print('loss:',loss)\n",
    "\n",
    "    return w.reshape(-1,1)"
   ]
  },
  {
   "cell_type": "code",
   "execution_count": null,
   "metadata": {},
   "outputs": [],
   "source": []
  },
  {
   "cell_type": "code",
   "execution_count": null,
   "metadata": {},
   "outputs": [],
   "source": []
  }
 ],
 "metadata": {
  "kernelspec": {
   "display_name": "base",
   "language": "python",
   "name": "python3"
  },
  "language_info": {
   "codemirror_mode": {
    "name": "ipython",
    "version": 3
   },
   "file_extension": ".py",
   "mimetype": "text/x-python",
   "name": "python",
   "nbconvert_exporter": "python",
   "pygments_lexer": "ipython3",
   "version": "3.9.12"
  }
 },
 "nbformat": 4,
 "nbformat_minor": 2
}
